{
 "cells": [
  {
   "cell_type": "markdown",
   "metadata": {},
   "source": [
    "# Calling C/Fortran Code from Julia\n",
    "\n",
    "Guides:\n",
    "- https://docs.julialang.org/en/v1/manual/calling-c-and-fortran-code/\n"
   ]
  },
  {
   "cell_type": "code",
   "execution_count": 1,
   "metadata": {},
   "outputs": [
    {
     "name": "stdout",
     "output_type": "stream",
     "text": [
      "Julia version is:"
     ]
    },
    {
     "data": {
      "text/plain": [
       "v\"1.4.1\""
      ]
     },
     "execution_count": 1,
     "metadata": {},
     "output_type": "execute_result"
    }
   ],
   "source": [
    "print(\"Julia version is:\")\n",
    "VERSION"
   ]
  },
  {
   "cell_type": "markdown",
   "metadata": {},
   "source": [
    "# C\n",
    "\n",
    "Code contents:"
   ]
  },
  {
   "cell_type": "code",
   "execution_count": 2,
   "metadata": {},
   "outputs": [
    {
     "name": "stdout",
     "output_type": "stream",
     "text": [
      "#include <stdio.h>\n",
      "\n",
      "float funcAdd(float input) {\n",
      "    return input + 1.5;\n",
      "}\n",
      "\n",
      "\n",
      "int main() {\n",
      "    printf(\"Hello World!\");\n",
      "    printf(\"%g\", funcAdd(3.0));\n",
      "    return 0;\n",
      "}\n"
     ]
    }
   ],
   "source": [
    ";cat example.c"
   ]
  },
  {
   "cell_type": "markdown",
   "metadata": {},
   "source": [
    "Compile"
   ]
  },
  {
   "cell_type": "code",
   "execution_count": 3,
   "metadata": {},
   "outputs": [],
   "source": [
    ";gcc -shared -fPIC example.c -o example_c.so"
   ]
  },
  {
   "cell_type": "markdown",
   "metadata": {},
   "source": [
    "See the contents of the shared library:"
   ]
  },
  {
   "cell_type": "code",
   "execution_count": 4,
   "metadata": {},
   "outputs": [
    {
     "name": "stdout",
     "output_type": "stream",
     "text": [
      "                 w __cxa_finalize\n",
      "0000000000001139 T funcAdd\n",
      "                 w __gmon_start__\n",
      "                 w _ITM_deregisterTMCloneTable\n",
      "                 w _ITM_registerTMCloneTable\n",
      "0000000000001159 T main\n",
      "                 U printf\n"
     ]
    }
   ],
   "source": [
    ";nm -D example_c.so"
   ]
  },
  {
   "cell_type": "markdown",
   "metadata": {},
   "source": [
    "Call it from Julia:"
   ]
  },
  {
   "cell_type": "code",
   "execution_count": 5,
   "metadata": {},
   "outputs": [
    {
     "name": "stdout",
     "output_type": "stream",
     "text": [
      "Calling with a variable:\n",
      "2.5\n",
      "Calling with a constant:\n",
      "2.5\n",
      "Calling with the wrong type (Float64 instead of the correct Float32).\n",
      "5.28426686e-315\n"
     ]
    }
   ],
   "source": [
    "println(\"Calling with a variable:\")\n",
    "a = 1.0\n",
    "println(ccall((:funcAdd, \"./example_c.so\"), Float32, (Float32,), a,))\n",
    "println(\"Calling with a constant:\")\n",
    "println(ccall((:funcAdd, \"./example_c.so\"), Float32, (Float32,), 1.0,))\n",
    "println(\"Calling with the wrong type (Float64 instead of the correct Float32).\")\n",
    "println(ccall((:funcAdd, \"./example_c.so\"), Float64, (Float64,), 1.0,))"
   ]
  },
  {
   "cell_type": "markdown",
   "metadata": {},
   "source": [
    "# Fortran\n",
    "\n",
    "Code contents:"
   ]
  },
  {
   "cell_type": "code",
   "execution_count": 6,
   "metadata": {},
   "outputs": [
    {
     "name": "stdout",
     "output_type": "stream",
     "text": [
      "program program_name\n",
      "    implicit none\n",
      "! This is a comment\n",
      "    real :: out\n",
      "    real :: funcAdd\n",
      "\n",
      "    out = funcAdd(1.0)\n",
      "    print *,  out\n",
      "end program program_name\n",
      "\n",
      "real function funcAdd(param)\n",
      "    real :: param\n",
      "    funcAdd = param + 1.5\n",
      "end"
     ]
    }
   ],
   "source": [
    ";cat example.f90"
   ]
  },
  {
   "cell_type": "markdown",
   "metadata": {},
   "source": [
    "Compile to shared libraries."
   ]
  },
  {
   "cell_type": "code",
   "execution_count": 7,
   "metadata": {},
   "outputs": [],
   "source": [
    ";gfortran -shared -fPIC example.f90 -o example_f.so"
   ]
  },
  {
   "cell_type": "markdown",
   "metadata": {},
   "source": [
    "See the contents of the shared library:"
   ]
  },
  {
   "cell_type": "code",
   "execution_count": 8,
   "metadata": {},
   "outputs": [
    {
     "name": "stdout",
     "output_type": "stream",
     "text": [
      "                 w __cxa_finalize\n",
      "0000000000001159 T funcadd_\n",
      "                 U _gfortran_set_args\n",
      "                 U _gfortran_set_options\n",
      "                 U _gfortran_st_write\n",
      "                 U _gfortran_st_write_done\n",
      "                 U _gfortran_transfer_real_write\n",
      "                 w __gmon_start__\n",
      "                 w _ITM_deregisterTMCloneTable\n",
      "                 w _ITM_registerTMCloneTable\n",
      "0000000000001207 T main\n"
     ]
    }
   ],
   "source": [
    ";nm -D example_f.so"
   ]
  },
  {
   "cell_type": "markdown",
   "metadata": {},
   "source": [
    "Useful reference about name mangling and `Ref` is available in the official `ccall` document\n",
    "([here](https://docs.julialang.org/en/v1/manual/calling-c-and-fortran-code/), [Fortran example section](https://docs.julialang.org/en/v1/manual/calling-c-and-fortran-code/#Fortran-Wrapper-Example-1)).\n",
    "\n",
    "Run:"
   ]
  },
  {
   "cell_type": "code",
   "execution_count": 9,
   "metadata": {},
   "outputs": [
    {
     "name": "stdout",
     "output_type": "stream",
     "text": [
      "Calling with a variable (without Ref):\n",
      "1.5\n",
      "Calling with a variable (with Ref):\n",
      "2.5\n",
      "Calling with the wrong type (Float64 instead of the correct Float32).\n",
      "5.28426686e-315\n"
     ]
    }
   ],
   "source": [
    "println(\"Calling with a variable (without Ref):\")\n",
    "a = 1.0\n",
    "println(ccall((:funcadd_, \"./example_f.so\"), Float32, (Float32,), a,))\n",
    "println(\"Calling with a variable (with Ref):\")\n",
    "println(ccall((:funcadd_, \"./example_f.so\"), Float32, (Ref{Float32},), a,))\n",
    "println(\"Calling with the wrong type (Float64 instead of the correct Float32).\")\n",
    "println(ccall((:funcadd_, \"./example_f.so\"), Float64, (Ref{Float64},), a,))"
   ]
  },
  {
   "cell_type": "code",
   "execution_count": 10,
   "metadata": {},
   "outputs": [
    {
     "name": "stdout",
     "output_type": "stream",
     "text": [
      "Call it with a constant:\n",
      "2.5\n"
     ]
    }
   ],
   "source": [
    "println(\"Call it with a constant:\")\n",
    "println(ccall((:funcadd_, \"./example_f.so\"), Float32, (Ref{Float32},), 1.0,))"
   ]
  },
  {
   "cell_type": "markdown",
   "metadata": {},
   "source": [
    "But this will cause Segmentation fault, and if run it will cause the Jupyter notebook's kernel to die:\n",
    "\n",
    "```julia\n",
    "println(ccall((:funcadd_, \"./example_f.so\"), Float32, (Float32,), 1.0,))\n",
    "```"
   ]
  },
  {
   "cell_type": "code",
   "execution_count": null,
   "metadata": {},
   "outputs": [],
   "source": []
  }
 ],
 "metadata": {
  "kernelspec": {
   "display_name": "Julia 1.4.1",
   "language": "julia",
   "name": "julia-1.4"
  },
  "language_info": {
   "file_extension": ".jl",
   "mimetype": "application/julia",
   "name": "julia",
   "version": "1.4.1"
  }
 },
 "nbformat": 4,
 "nbformat_minor": 4
}
